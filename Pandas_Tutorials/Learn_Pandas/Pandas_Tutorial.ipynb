{
 "cells": [
  {
   "cell_type": "code",
   "execution_count": 1,
   "metadata": {},
   "outputs": [],
   "source": [
    "import numpy as np\n",
    "import pandas as pd"
   ]
  },
  {
   "cell_type": "markdown",
   "metadata": {},
   "source": [
    "# DataFrames and Series"
   ]
  },
  {
   "cell_type": "code",
   "execution_count": 2,
   "metadata": {},
   "outputs": [],
   "source": [
    "# Creating a Serires(1D lists type structure as in df)\n",
    "s = pd.Series([1,2,3,4,5,np.nan,6,7,8,9,10])"
   ]
  },
  {
   "cell_type": "code",
   "execution_count": 3,
   "metadata": {},
   "outputs": [
    {
     "data": {
      "text/plain": [
       "0      1.0\n",
       "1      2.0\n",
       "2      3.0\n",
       "3      4.0\n",
       "4      5.0\n",
       "5      NaN\n",
       "6      6.0\n",
       "7      7.0\n",
       "8      8.0\n",
       "9      9.0\n",
       "10    10.0\n",
       "dtype: float64"
      ]
     },
     "execution_count": 3,
     "metadata": {},
     "output_type": "execute_result"
    }
   ],
   "source": [
    "s"
   ]
  },
  {
   "cell_type": "code",
   "execution_count": 4,
   "metadata": {},
   "outputs": [
    {
     "data": {
      "text/plain": [
       "DatetimeIndex(['2020-07-25', '2020-07-26', '2020-07-27', '2020-07-28',\n",
       "               '2020-07-29', '2020-07-30', '2020-07-31', '2020-08-01',\n",
       "               '2020-08-02', '2020-08-03'],\n",
       "              dtype='datetime64[ns]', freq='D')"
      ]
     },
     "execution_count": 4,
     "metadata": {},
     "output_type": "execute_result"
    }
   ],
   "source": [
    "# Creating a dataframe by np array by date_range\n",
    "d = pd.date_range('20200725', periods=10)\n",
    "d"
   ]
  },
  {
   "cell_type": "code",
   "execution_count": 5,
   "metadata": {},
   "outputs": [
    {
     "data": {
      "text/html": [
       "<div>\n",
       "<style scoped>\n",
       "    .dataframe tbody tr th:only-of-type {\n",
       "        vertical-align: middle;\n",
       "    }\n",
       "\n",
       "    .dataframe tbody tr th {\n",
       "        vertical-align: top;\n",
       "    }\n",
       "\n",
       "    .dataframe thead th {\n",
       "        text-align: right;\n",
       "    }\n",
       "</style>\n",
       "<table border=\"1\" class=\"dataframe\">\n",
       "  <thead>\n",
       "    <tr style=\"text-align: right;\">\n",
       "      <th></th>\n",
       "      <th>A</th>\n",
       "      <th>B</th>\n",
       "      <th>C</th>\n",
       "      <th>D</th>\n",
       "    </tr>\n",
       "  </thead>\n",
       "  <tbody>\n",
       "    <tr>\n",
       "      <td>2020-07-25</td>\n",
       "      <td>1.031623</td>\n",
       "      <td>-1.142337</td>\n",
       "      <td>1.435305</td>\n",
       "      <td>-0.533262</td>\n",
       "    </tr>\n",
       "    <tr>\n",
       "      <td>2020-07-26</td>\n",
       "      <td>-0.351843</td>\n",
       "      <td>0.454871</td>\n",
       "      <td>0.108946</td>\n",
       "      <td>1.087645</td>\n",
       "    </tr>\n",
       "    <tr>\n",
       "      <td>2020-07-27</td>\n",
       "      <td>-1.958982</td>\n",
       "      <td>0.101333</td>\n",
       "      <td>-0.340187</td>\n",
       "      <td>1.379958</td>\n",
       "    </tr>\n",
       "    <tr>\n",
       "      <td>2020-07-28</td>\n",
       "      <td>-1.803305</td>\n",
       "      <td>0.673550</td>\n",
       "      <td>1.129829</td>\n",
       "      <td>-0.848233</td>\n",
       "    </tr>\n",
       "    <tr>\n",
       "      <td>2020-07-29</td>\n",
       "      <td>0.702338</td>\n",
       "      <td>-0.925084</td>\n",
       "      <td>1.881097</td>\n",
       "      <td>0.373297</td>\n",
       "    </tr>\n",
       "    <tr>\n",
       "      <td>2020-07-30</td>\n",
       "      <td>-0.248262</td>\n",
       "      <td>0.841478</td>\n",
       "      <td>0.949801</td>\n",
       "      <td>-0.980797</td>\n",
       "    </tr>\n",
       "    <tr>\n",
       "      <td>2020-07-31</td>\n",
       "      <td>-0.396432</td>\n",
       "      <td>1.469444</td>\n",
       "      <td>-0.936433</td>\n",
       "      <td>0.466257</td>\n",
       "    </tr>\n",
       "    <tr>\n",
       "      <td>2020-08-01</td>\n",
       "      <td>-0.694504</td>\n",
       "      <td>2.000820</td>\n",
       "      <td>-0.154553</td>\n",
       "      <td>0.928743</td>\n",
       "    </tr>\n",
       "    <tr>\n",
       "      <td>2020-08-02</td>\n",
       "      <td>-0.254769</td>\n",
       "      <td>-0.660429</td>\n",
       "      <td>-1.774127</td>\n",
       "      <td>-0.030448</td>\n",
       "    </tr>\n",
       "    <tr>\n",
       "      <td>2020-08-03</td>\n",
       "      <td>-0.145861</td>\n",
       "      <td>1.130643</td>\n",
       "      <td>-0.480968</td>\n",
       "      <td>1.528326</td>\n",
       "    </tr>\n",
       "  </tbody>\n",
       "</table>\n",
       "</div>"
      ],
      "text/plain": [
       "                   A         B         C         D\n",
       "2020-07-25  1.031623 -1.142337  1.435305 -0.533262\n",
       "2020-07-26 -0.351843  0.454871  0.108946  1.087645\n",
       "2020-07-27 -1.958982  0.101333 -0.340187  1.379958\n",
       "2020-07-28 -1.803305  0.673550  1.129829 -0.848233\n",
       "2020-07-29  0.702338 -0.925084  1.881097  0.373297\n",
       "2020-07-30 -0.248262  0.841478  0.949801 -0.980797\n",
       "2020-07-31 -0.396432  1.469444 -0.936433  0.466257\n",
       "2020-08-01 -0.694504  2.000820 -0.154553  0.928743\n",
       "2020-08-02 -0.254769 -0.660429 -1.774127 -0.030448\n",
       "2020-08-03 -0.145861  1.130643 -0.480968  1.528326"
      ]
     },
     "execution_count": 5,
     "metadata": {},
     "output_type": "execute_result"
    }
   ],
   "source": [
    "df = pd.DataFrame(np.random.randn(10,4), index=d, columns= ['A', 'B', 'C', 'D'])\n",
    "df"
   ]
  },
  {
   "cell_type": "code",
   "execution_count": 6,
   "metadata": {},
   "outputs": [],
   "source": [
    "df1 = pd.DataFrame({'A':[1,2,3,4],\n",
    "                   'B':pd.Timestamp('20200725'),\n",
    "                   'C':pd.Series(1, index = list(range(4)), dtype='float32'),\n",
    "                   'D':np.array([5]*4, dtype='int32'),\n",
    "                   'E':pd.Categorical(['True', 'False', 'True', 'False']),\n",
    "                   'F':'Thats my Name'})"
   ]
  },
  {
   "cell_type": "code",
   "execution_count": 7,
   "metadata": {},
   "outputs": [
    {
     "data": {
      "text/html": [
       "<div>\n",
       "<style scoped>\n",
       "    .dataframe tbody tr th:only-of-type {\n",
       "        vertical-align: middle;\n",
       "    }\n",
       "\n",
       "    .dataframe tbody tr th {\n",
       "        vertical-align: top;\n",
       "    }\n",
       "\n",
       "    .dataframe thead th {\n",
       "        text-align: right;\n",
       "    }\n",
       "</style>\n",
       "<table border=\"1\" class=\"dataframe\">\n",
       "  <thead>\n",
       "    <tr style=\"text-align: right;\">\n",
       "      <th></th>\n",
       "      <th>A</th>\n",
       "      <th>B</th>\n",
       "      <th>C</th>\n",
       "      <th>D</th>\n",
       "      <th>E</th>\n",
       "      <th>F</th>\n",
       "    </tr>\n",
       "  </thead>\n",
       "  <tbody>\n",
       "    <tr>\n",
       "      <td>0</td>\n",
       "      <td>1</td>\n",
       "      <td>2020-07-25</td>\n",
       "      <td>1.0</td>\n",
       "      <td>5</td>\n",
       "      <td>True</td>\n",
       "      <td>Thats my Name</td>\n",
       "    </tr>\n",
       "    <tr>\n",
       "      <td>1</td>\n",
       "      <td>2</td>\n",
       "      <td>2020-07-25</td>\n",
       "      <td>1.0</td>\n",
       "      <td>5</td>\n",
       "      <td>False</td>\n",
       "      <td>Thats my Name</td>\n",
       "    </tr>\n",
       "    <tr>\n",
       "      <td>2</td>\n",
       "      <td>3</td>\n",
       "      <td>2020-07-25</td>\n",
       "      <td>1.0</td>\n",
       "      <td>5</td>\n",
       "      <td>True</td>\n",
       "      <td>Thats my Name</td>\n",
       "    </tr>\n",
       "    <tr>\n",
       "      <td>3</td>\n",
       "      <td>4</td>\n",
       "      <td>2020-07-25</td>\n",
       "      <td>1.0</td>\n",
       "      <td>5</td>\n",
       "      <td>False</td>\n",
       "      <td>Thats my Name</td>\n",
       "    </tr>\n",
       "  </tbody>\n",
       "</table>\n",
       "</div>"
      ],
      "text/plain": [
       "   A          B    C  D      E              F\n",
       "0  1 2020-07-25  1.0  5   True  Thats my Name\n",
       "1  2 2020-07-25  1.0  5  False  Thats my Name\n",
       "2  3 2020-07-25  1.0  5   True  Thats my Name\n",
       "3  4 2020-07-25  1.0  5  False  Thats my Name"
      ]
     },
     "execution_count": 7,
     "metadata": {},
     "output_type": "execute_result"
    }
   ],
   "source": [
    "df1"
   ]
  },
  {
   "cell_type": "code",
   "execution_count": 8,
   "metadata": {
    "scrolled": true
   },
   "outputs": [
    {
     "data": {
      "text/plain": [
       "A             int64\n",
       "B    datetime64[ns]\n",
       "C           float32\n",
       "D             int32\n",
       "E          category\n",
       "F            object\n",
       "dtype: object"
      ]
     },
     "execution_count": 8,
     "metadata": {},
     "output_type": "execute_result"
    }
   ],
   "source": [
    "df1.dtypes"
   ]
  },
  {
   "cell_type": "markdown",
   "metadata": {},
   "source": [
    "# View Data"
   ]
  },
  {
   "cell_type": "code",
   "execution_count": 9,
   "metadata": {},
   "outputs": [
    {
     "data": {
      "text/html": [
       "<div>\n",
       "<style scoped>\n",
       "    .dataframe tbody tr th:only-of-type {\n",
       "        vertical-align: middle;\n",
       "    }\n",
       "\n",
       "    .dataframe tbody tr th {\n",
       "        vertical-align: top;\n",
       "    }\n",
       "\n",
       "    .dataframe thead th {\n",
       "        text-align: right;\n",
       "    }\n",
       "</style>\n",
       "<table border=\"1\" class=\"dataframe\">\n",
       "  <thead>\n",
       "    <tr style=\"text-align: right;\">\n",
       "      <th></th>\n",
       "      <th>A</th>\n",
       "      <th>B</th>\n",
       "      <th>C</th>\n",
       "      <th>D</th>\n",
       "    </tr>\n",
       "  </thead>\n",
       "  <tbody>\n",
       "    <tr>\n",
       "      <td>2020-07-25</td>\n",
       "      <td>1.031623</td>\n",
       "      <td>-1.142337</td>\n",
       "      <td>1.435305</td>\n",
       "      <td>-0.533262</td>\n",
       "    </tr>\n",
       "    <tr>\n",
       "      <td>2020-07-26</td>\n",
       "      <td>-0.351843</td>\n",
       "      <td>0.454871</td>\n",
       "      <td>0.108946</td>\n",
       "      <td>1.087645</td>\n",
       "    </tr>\n",
       "    <tr>\n",
       "      <td>2020-07-27</td>\n",
       "      <td>-1.958982</td>\n",
       "      <td>0.101333</td>\n",
       "      <td>-0.340187</td>\n",
       "      <td>1.379958</td>\n",
       "    </tr>\n",
       "    <tr>\n",
       "      <td>2020-07-28</td>\n",
       "      <td>-1.803305</td>\n",
       "      <td>0.673550</td>\n",
       "      <td>1.129829</td>\n",
       "      <td>-0.848233</td>\n",
       "    </tr>\n",
       "    <tr>\n",
       "      <td>2020-07-29</td>\n",
       "      <td>0.702338</td>\n",
       "      <td>-0.925084</td>\n",
       "      <td>1.881097</td>\n",
       "      <td>0.373297</td>\n",
       "    </tr>\n",
       "  </tbody>\n",
       "</table>\n",
       "</div>"
      ],
      "text/plain": [
       "                   A         B         C         D\n",
       "2020-07-25  1.031623 -1.142337  1.435305 -0.533262\n",
       "2020-07-26 -0.351843  0.454871  0.108946  1.087645\n",
       "2020-07-27 -1.958982  0.101333 -0.340187  1.379958\n",
       "2020-07-28 -1.803305  0.673550  1.129829 -0.848233\n",
       "2020-07-29  0.702338 -0.925084  1.881097  0.373297"
      ]
     },
     "execution_count": 9,
     "metadata": {},
     "output_type": "execute_result"
    }
   ],
   "source": [
    "df.head()"
   ]
  },
  {
   "cell_type": "code",
   "execution_count": 10,
   "metadata": {},
   "outputs": [
    {
     "data": {
      "text/html": [
       "<div>\n",
       "<style scoped>\n",
       "    .dataframe tbody tr th:only-of-type {\n",
       "        vertical-align: middle;\n",
       "    }\n",
       "\n",
       "    .dataframe tbody tr th {\n",
       "        vertical-align: top;\n",
       "    }\n",
       "\n",
       "    .dataframe thead th {\n",
       "        text-align: right;\n",
       "    }\n",
       "</style>\n",
       "<table border=\"1\" class=\"dataframe\">\n",
       "  <thead>\n",
       "    <tr style=\"text-align: right;\">\n",
       "      <th></th>\n",
       "      <th>A</th>\n",
       "      <th>B</th>\n",
       "      <th>C</th>\n",
       "      <th>D</th>\n",
       "    </tr>\n",
       "  </thead>\n",
       "  <tbody>\n",
       "    <tr>\n",
       "      <td>2020-07-30</td>\n",
       "      <td>-0.248262</td>\n",
       "      <td>0.841478</td>\n",
       "      <td>0.949801</td>\n",
       "      <td>-0.980797</td>\n",
       "    </tr>\n",
       "    <tr>\n",
       "      <td>2020-07-31</td>\n",
       "      <td>-0.396432</td>\n",
       "      <td>1.469444</td>\n",
       "      <td>-0.936433</td>\n",
       "      <td>0.466257</td>\n",
       "    </tr>\n",
       "    <tr>\n",
       "      <td>2020-08-01</td>\n",
       "      <td>-0.694504</td>\n",
       "      <td>2.000820</td>\n",
       "      <td>-0.154553</td>\n",
       "      <td>0.928743</td>\n",
       "    </tr>\n",
       "    <tr>\n",
       "      <td>2020-08-02</td>\n",
       "      <td>-0.254769</td>\n",
       "      <td>-0.660429</td>\n",
       "      <td>-1.774127</td>\n",
       "      <td>-0.030448</td>\n",
       "    </tr>\n",
       "    <tr>\n",
       "      <td>2020-08-03</td>\n",
       "      <td>-0.145861</td>\n",
       "      <td>1.130643</td>\n",
       "      <td>-0.480968</td>\n",
       "      <td>1.528326</td>\n",
       "    </tr>\n",
       "  </tbody>\n",
       "</table>\n",
       "</div>"
      ],
      "text/plain": [
       "                   A         B         C         D\n",
       "2020-07-30 -0.248262  0.841478  0.949801 -0.980797\n",
       "2020-07-31 -0.396432  1.469444 -0.936433  0.466257\n",
       "2020-08-01 -0.694504  2.000820 -0.154553  0.928743\n",
       "2020-08-02 -0.254769 -0.660429 -1.774127 -0.030448\n",
       "2020-08-03 -0.145861  1.130643 -0.480968  1.528326"
      ]
     },
     "execution_count": 10,
     "metadata": {},
     "output_type": "execute_result"
    }
   ],
   "source": [
    "df.tail()"
   ]
  },
  {
   "cell_type": "code",
   "execution_count": 12,
   "metadata": {},
   "outputs": [
    {
     "data": {
      "text/plain": [
       "DatetimeIndex(['2020-07-25', '2020-07-26', '2020-07-27', '2020-07-28',\n",
       "               '2020-07-29', '2020-07-30', '2020-07-31', '2020-08-01',\n",
       "               '2020-08-02', '2020-08-03'],\n",
       "              dtype='datetime64[ns]', freq='D')"
      ]
     },
     "execution_count": 12,
     "metadata": {},
     "output_type": "execute_result"
    }
   ],
   "source": [
    "df.index"
   ]
  },
  {
   "cell_type": "code",
   "execution_count": 13,
   "metadata": {},
   "outputs": [
    {
     "data": {
      "text/plain": [
       "Index(['A', 'B', 'C', 'D'], dtype='object')"
      ]
     },
     "execution_count": 13,
     "metadata": {},
     "output_type": "execute_result"
    }
   ],
   "source": [
    "df.columns"
   ]
  },
  {
   "cell_type": "code",
   "execution_count": 15,
   "metadata": {},
   "outputs": [
    {
     "data": {
      "text/plain": [
       "array([[ 1.03162276, -1.14233663,  1.43530504, -0.53326218],\n",
       "       [-0.3518427 ,  0.45487119,  0.10894618,  1.08764511],\n",
       "       [-1.95898227,  0.10133349, -0.34018732,  1.37995838],\n",
       "       [-1.80330468,  0.67355049,  1.12982932, -0.84823334],\n",
       "       [ 0.70233823, -0.92508384,  1.88109654,  0.37329657],\n",
       "       [-0.24826218,  0.84147832,  0.94980139, -0.9807971 ],\n",
       "       [-0.39643196,  1.46944387, -0.93643304,  0.46625728],\n",
       "       [-0.69450445,  2.00081994, -0.1545534 ,  0.92874313],\n",
       "       [-0.25476932, -0.66042935, -1.77412661, -0.03044804],\n",
       "       [-0.14586149,  1.13064263, -0.48096774,  1.52832591]])"
      ]
     },
     "execution_count": 15,
     "metadata": {},
     "output_type": "execute_result"
    }
   ],
   "source": [
    "df.to_numpy()"
   ]
  },
  {
   "cell_type": "code",
   "execution_count": 17,
   "metadata": {},
   "outputs": [
    {
     "data": {
      "text/html": [
       "<div>\n",
       "<style scoped>\n",
       "    .dataframe tbody tr th:only-of-type {\n",
       "        vertical-align: middle;\n",
       "    }\n",
       "\n",
       "    .dataframe tbody tr th {\n",
       "        vertical-align: top;\n",
       "    }\n",
       "\n",
       "    .dataframe thead th {\n",
       "        text-align: right;\n",
       "    }\n",
       "</style>\n",
       "<table border=\"1\" class=\"dataframe\">\n",
       "  <thead>\n",
       "    <tr style=\"text-align: right;\">\n",
       "      <th></th>\n",
       "      <th>A</th>\n",
       "      <th>B</th>\n",
       "      <th>C</th>\n",
       "      <th>D</th>\n",
       "    </tr>\n",
       "  </thead>\n",
       "  <tbody>\n",
       "    <tr>\n",
       "      <td>count</td>\n",
       "      <td>10.000000</td>\n",
       "      <td>10.000000</td>\n",
       "      <td>10.000000</td>\n",
       "      <td>10.000000</td>\n",
       "    </tr>\n",
       "    <tr>\n",
       "      <td>mean</td>\n",
       "      <td>-0.412000</td>\n",
       "      <td>0.394429</td>\n",
       "      <td>0.181871</td>\n",
       "      <td>0.337149</td>\n",
       "    </tr>\n",
       "    <tr>\n",
       "      <td>std</td>\n",
       "      <td>0.934565</td>\n",
       "      <td>1.046739</td>\n",
       "      <td>1.147642</td>\n",
       "      <td>0.911191</td>\n",
       "    </tr>\n",
       "    <tr>\n",
       "      <td>min</td>\n",
       "      <td>-1.958982</td>\n",
       "      <td>-1.142337</td>\n",
       "      <td>-1.774127</td>\n",
       "      <td>-0.980797</td>\n",
       "    </tr>\n",
       "    <tr>\n",
       "      <td>25%</td>\n",
       "      <td>-0.619986</td>\n",
       "      <td>-0.469989</td>\n",
       "      <td>-0.445773</td>\n",
       "      <td>-0.407559</td>\n",
       "    </tr>\n",
       "    <tr>\n",
       "      <td>50%</td>\n",
       "      <td>-0.303306</td>\n",
       "      <td>0.564211</td>\n",
       "      <td>-0.022804</td>\n",
       "      <td>0.419777</td>\n",
       "    </tr>\n",
       "    <tr>\n",
       "      <td>75%</td>\n",
       "      <td>-0.171462</td>\n",
       "      <td>1.058352</td>\n",
       "      <td>1.084822</td>\n",
       "      <td>1.047920</td>\n",
       "    </tr>\n",
       "    <tr>\n",
       "      <td>max</td>\n",
       "      <td>1.031623</td>\n",
       "      <td>2.000820</td>\n",
       "      <td>1.881097</td>\n",
       "      <td>1.528326</td>\n",
       "    </tr>\n",
       "  </tbody>\n",
       "</table>\n",
       "</div>"
      ],
      "text/plain": [
       "               A          B          C          D\n",
       "count  10.000000  10.000000  10.000000  10.000000\n",
       "mean   -0.412000   0.394429   0.181871   0.337149\n",
       "std     0.934565   1.046739   1.147642   0.911191\n",
       "min    -1.958982  -1.142337  -1.774127  -0.980797\n",
       "25%    -0.619986  -0.469989  -0.445773  -0.407559\n",
       "50%    -0.303306   0.564211  -0.022804   0.419777\n",
       "75%    -0.171462   1.058352   1.084822   1.047920\n",
       "max     1.031623   2.000820   1.881097   1.528326"
      ]
     },
     "execution_count": 17,
     "metadata": {},
     "output_type": "execute_result"
    }
   ],
   "source": [
    "df.describe()"
   ]
  },
  {
   "cell_type": "code",
   "execution_count": 18,
   "metadata": {},
   "outputs": [
    {
     "data": {
      "text/html": [
       "<div>\n",
       "<style scoped>\n",
       "    .dataframe tbody tr th:only-of-type {\n",
       "        vertical-align: middle;\n",
       "    }\n",
       "\n",
       "    .dataframe tbody tr th {\n",
       "        vertical-align: top;\n",
       "    }\n",
       "\n",
       "    .dataframe thead th {\n",
       "        text-align: right;\n",
       "    }\n",
       "</style>\n",
       "<table border=\"1\" class=\"dataframe\">\n",
       "  <thead>\n",
       "    <tr style=\"text-align: right;\">\n",
       "      <th></th>\n",
       "      <th>D</th>\n",
       "      <th>C</th>\n",
       "      <th>B</th>\n",
       "      <th>A</th>\n",
       "    </tr>\n",
       "  </thead>\n",
       "  <tbody>\n",
       "    <tr>\n",
       "      <td>2020-07-25</td>\n",
       "      <td>-0.533262</td>\n",
       "      <td>1.435305</td>\n",
       "      <td>-1.142337</td>\n",
       "      <td>1.031623</td>\n",
       "    </tr>\n",
       "    <tr>\n",
       "      <td>2020-07-26</td>\n",
       "      <td>1.087645</td>\n",
       "      <td>0.108946</td>\n",
       "      <td>0.454871</td>\n",
       "      <td>-0.351843</td>\n",
       "    </tr>\n",
       "    <tr>\n",
       "      <td>2020-07-27</td>\n",
       "      <td>1.379958</td>\n",
       "      <td>-0.340187</td>\n",
       "      <td>0.101333</td>\n",
       "      <td>-1.958982</td>\n",
       "    </tr>\n",
       "    <tr>\n",
       "      <td>2020-07-28</td>\n",
       "      <td>-0.848233</td>\n",
       "      <td>1.129829</td>\n",
       "      <td>0.673550</td>\n",
       "      <td>-1.803305</td>\n",
       "    </tr>\n",
       "    <tr>\n",
       "      <td>2020-07-29</td>\n",
       "      <td>0.373297</td>\n",
       "      <td>1.881097</td>\n",
       "      <td>-0.925084</td>\n",
       "      <td>0.702338</td>\n",
       "    </tr>\n",
       "    <tr>\n",
       "      <td>2020-07-30</td>\n",
       "      <td>-0.980797</td>\n",
       "      <td>0.949801</td>\n",
       "      <td>0.841478</td>\n",
       "      <td>-0.248262</td>\n",
       "    </tr>\n",
       "    <tr>\n",
       "      <td>2020-07-31</td>\n",
       "      <td>0.466257</td>\n",
       "      <td>-0.936433</td>\n",
       "      <td>1.469444</td>\n",
       "      <td>-0.396432</td>\n",
       "    </tr>\n",
       "    <tr>\n",
       "      <td>2020-08-01</td>\n",
       "      <td>0.928743</td>\n",
       "      <td>-0.154553</td>\n",
       "      <td>2.000820</td>\n",
       "      <td>-0.694504</td>\n",
       "    </tr>\n",
       "    <tr>\n",
       "      <td>2020-08-02</td>\n",
       "      <td>-0.030448</td>\n",
       "      <td>-1.774127</td>\n",
       "      <td>-0.660429</td>\n",
       "      <td>-0.254769</td>\n",
       "    </tr>\n",
       "    <tr>\n",
       "      <td>2020-08-03</td>\n",
       "      <td>1.528326</td>\n",
       "      <td>-0.480968</td>\n",
       "      <td>1.130643</td>\n",
       "      <td>-0.145861</td>\n",
       "    </tr>\n",
       "  </tbody>\n",
       "</table>\n",
       "</div>"
      ],
      "text/plain": [
       "                   D         C         B         A\n",
       "2020-07-25 -0.533262  1.435305 -1.142337  1.031623\n",
       "2020-07-26  1.087645  0.108946  0.454871 -0.351843\n",
       "2020-07-27  1.379958 -0.340187  0.101333 -1.958982\n",
       "2020-07-28 -0.848233  1.129829  0.673550 -1.803305\n",
       "2020-07-29  0.373297  1.881097 -0.925084  0.702338\n",
       "2020-07-30 -0.980797  0.949801  0.841478 -0.248262\n",
       "2020-07-31  0.466257 -0.936433  1.469444 -0.396432\n",
       "2020-08-01  0.928743 -0.154553  2.000820 -0.694504\n",
       "2020-08-02 -0.030448 -1.774127 -0.660429 -0.254769\n",
       "2020-08-03  1.528326 -0.480968  1.130643 -0.145861"
      ]
     },
     "execution_count": 18,
     "metadata": {},
     "output_type": "execute_result"
    }
   ],
   "source": [
    "df.sort_index(axis = 1, ascending=False)"
   ]
  },
  {
   "cell_type": "code",
   "execution_count": 19,
   "metadata": {},
   "outputs": [
    {
     "data": {
      "text/html": [
       "<div>\n",
       "<style scoped>\n",
       "    .dataframe tbody tr th:only-of-type {\n",
       "        vertical-align: middle;\n",
       "    }\n",
       "\n",
       "    .dataframe tbody tr th {\n",
       "        vertical-align: top;\n",
       "    }\n",
       "\n",
       "    .dataframe thead th {\n",
       "        text-align: right;\n",
       "    }\n",
       "</style>\n",
       "<table border=\"1\" class=\"dataframe\">\n",
       "  <thead>\n",
       "    <tr style=\"text-align: right;\">\n",
       "      <th></th>\n",
       "      <th>A</th>\n",
       "      <th>B</th>\n",
       "      <th>C</th>\n",
       "      <th>D</th>\n",
       "    </tr>\n",
       "  </thead>\n",
       "  <tbody>\n",
       "    <tr>\n",
       "      <td>2020-08-02</td>\n",
       "      <td>-0.254769</td>\n",
       "      <td>-0.660429</td>\n",
       "      <td>-1.774127</td>\n",
       "      <td>-0.030448</td>\n",
       "    </tr>\n",
       "    <tr>\n",
       "      <td>2020-07-31</td>\n",
       "      <td>-0.396432</td>\n",
       "      <td>1.469444</td>\n",
       "      <td>-0.936433</td>\n",
       "      <td>0.466257</td>\n",
       "    </tr>\n",
       "    <tr>\n",
       "      <td>2020-08-03</td>\n",
       "      <td>-0.145861</td>\n",
       "      <td>1.130643</td>\n",
       "      <td>-0.480968</td>\n",
       "      <td>1.528326</td>\n",
       "    </tr>\n",
       "    <tr>\n",
       "      <td>2020-07-27</td>\n",
       "      <td>-1.958982</td>\n",
       "      <td>0.101333</td>\n",
       "      <td>-0.340187</td>\n",
       "      <td>1.379958</td>\n",
       "    </tr>\n",
       "    <tr>\n",
       "      <td>2020-08-01</td>\n",
       "      <td>-0.694504</td>\n",
       "      <td>2.000820</td>\n",
       "      <td>-0.154553</td>\n",
       "      <td>0.928743</td>\n",
       "    </tr>\n",
       "    <tr>\n",
       "      <td>2020-07-26</td>\n",
       "      <td>-0.351843</td>\n",
       "      <td>0.454871</td>\n",
       "      <td>0.108946</td>\n",
       "      <td>1.087645</td>\n",
       "    </tr>\n",
       "    <tr>\n",
       "      <td>2020-07-30</td>\n",
       "      <td>-0.248262</td>\n",
       "      <td>0.841478</td>\n",
       "      <td>0.949801</td>\n",
       "      <td>-0.980797</td>\n",
       "    </tr>\n",
       "    <tr>\n",
       "      <td>2020-07-28</td>\n",
       "      <td>-1.803305</td>\n",
       "      <td>0.673550</td>\n",
       "      <td>1.129829</td>\n",
       "      <td>-0.848233</td>\n",
       "    </tr>\n",
       "    <tr>\n",
       "      <td>2020-07-25</td>\n",
       "      <td>1.031623</td>\n",
       "      <td>-1.142337</td>\n",
       "      <td>1.435305</td>\n",
       "      <td>-0.533262</td>\n",
       "    </tr>\n",
       "    <tr>\n",
       "      <td>2020-07-29</td>\n",
       "      <td>0.702338</td>\n",
       "      <td>-0.925084</td>\n",
       "      <td>1.881097</td>\n",
       "      <td>0.373297</td>\n",
       "    </tr>\n",
       "  </tbody>\n",
       "</table>\n",
       "</div>"
      ],
      "text/plain": [
       "                   A         B         C         D\n",
       "2020-08-02 -0.254769 -0.660429 -1.774127 -0.030448\n",
       "2020-07-31 -0.396432  1.469444 -0.936433  0.466257\n",
       "2020-08-03 -0.145861  1.130643 -0.480968  1.528326\n",
       "2020-07-27 -1.958982  0.101333 -0.340187  1.379958\n",
       "2020-08-01 -0.694504  2.000820 -0.154553  0.928743\n",
       "2020-07-26 -0.351843  0.454871  0.108946  1.087645\n",
       "2020-07-30 -0.248262  0.841478  0.949801 -0.980797\n",
       "2020-07-28 -1.803305  0.673550  1.129829 -0.848233\n",
       "2020-07-25  1.031623 -1.142337  1.435305 -0.533262\n",
       "2020-07-29  0.702338 -0.925084  1.881097  0.373297"
      ]
     },
     "execution_count": 19,
     "metadata": {},
     "output_type": "execute_result"
    }
   ],
   "source": [
    "df.sort_values(by='C')"
   ]
  },
  {
   "cell_type": "code",
   "execution_count": 20,
   "metadata": {},
   "outputs": [
    {
     "data": {
      "text/plain": [
       "2020-07-25    1.435305\n",
       "2020-07-26    0.108946\n",
       "2020-07-27   -0.340187\n",
       "2020-07-28    1.129829\n",
       "2020-07-29    1.881097\n",
       "2020-07-30    0.949801\n",
       "2020-07-31   -0.936433\n",
       "2020-08-01   -0.154553\n",
       "2020-08-02   -1.774127\n",
       "2020-08-03   -0.480968\n",
       "Freq: D, Name: C, dtype: float64"
      ]
     },
     "execution_count": 20,
     "metadata": {},
     "output_type": "execute_result"
    }
   ],
   "source": [
    "df['C']"
   ]
  },
  {
   "cell_type": "code",
   "execution_count": 24,
   "metadata": {},
   "outputs": [
    {
     "data": {
      "text/html": [
       "<div>\n",
       "<style scoped>\n",
       "    .dataframe tbody tr th:only-of-type {\n",
       "        vertical-align: middle;\n",
       "    }\n",
       "\n",
       "    .dataframe tbody tr th {\n",
       "        vertical-align: top;\n",
       "    }\n",
       "\n",
       "    .dataframe thead th {\n",
       "        text-align: right;\n",
       "    }\n",
       "</style>\n",
       "<table border=\"1\" class=\"dataframe\">\n",
       "  <thead>\n",
       "    <tr style=\"text-align: right;\">\n",
       "      <th></th>\n",
       "      <th>A</th>\n",
       "      <th>B</th>\n",
       "      <th>C</th>\n",
       "      <th>D</th>\n",
       "    </tr>\n",
       "  </thead>\n",
       "  <tbody>\n",
       "    <tr>\n",
       "      <td>2020-07-25</td>\n",
       "      <td>1.031623</td>\n",
       "      <td>-1.142337</td>\n",
       "      <td>1.435305</td>\n",
       "      <td>-0.533262</td>\n",
       "    </tr>\n",
       "    <tr>\n",
       "      <td>2020-07-26</td>\n",
       "      <td>-0.351843</td>\n",
       "      <td>0.454871</td>\n",
       "      <td>0.108946</td>\n",
       "      <td>1.087645</td>\n",
       "    </tr>\n",
       "    <tr>\n",
       "      <td>2020-07-27</td>\n",
       "      <td>-1.958982</td>\n",
       "      <td>0.101333</td>\n",
       "      <td>-0.340187</td>\n",
       "      <td>1.379958</td>\n",
       "    </tr>\n",
       "  </tbody>\n",
       "</table>\n",
       "</div>"
      ],
      "text/plain": [
       "                   A         B         C         D\n",
       "2020-07-25  1.031623 -1.142337  1.435305 -0.533262\n",
       "2020-07-26 -0.351843  0.454871  0.108946  1.087645\n",
       "2020-07-27 -1.958982  0.101333 -0.340187  1.379958"
      ]
     },
     "execution_count": 24,
     "metadata": {},
     "output_type": "execute_result"
    }
   ],
   "source": [
    "# Slicing \n",
    "df[0:3]"
   ]
  },
  {
   "cell_type": "code",
   "execution_count": 29,
   "metadata": {},
   "outputs": [
    {
     "data": {
      "text/html": [
       "<div>\n",
       "<style scoped>\n",
       "    .dataframe tbody tr th:only-of-type {\n",
       "        vertical-align: middle;\n",
       "    }\n",
       "\n",
       "    .dataframe tbody tr th {\n",
       "        vertical-align: top;\n",
       "    }\n",
       "\n",
       "    .dataframe thead th {\n",
       "        text-align: right;\n",
       "    }\n",
       "</style>\n",
       "<table border=\"1\" class=\"dataframe\">\n",
       "  <thead>\n",
       "    <tr style=\"text-align: right;\">\n",
       "      <th></th>\n",
       "      <th>A</th>\n",
       "      <th>B</th>\n",
       "      <th>C</th>\n",
       "      <th>D</th>\n",
       "    </tr>\n",
       "  </thead>\n",
       "  <tbody>\n",
       "    <tr>\n",
       "      <td>2020-07-25</td>\n",
       "      <td>1.031623</td>\n",
       "      <td>-1.142337</td>\n",
       "      <td>1.435305</td>\n",
       "      <td>-0.533262</td>\n",
       "    </tr>\n",
       "    <tr>\n",
       "      <td>2020-07-26</td>\n",
       "      <td>-0.351843</td>\n",
       "      <td>0.454871</td>\n",
       "      <td>0.108946</td>\n",
       "      <td>1.087645</td>\n",
       "    </tr>\n",
       "    <tr>\n",
       "      <td>2020-07-27</td>\n",
       "      <td>-1.958982</td>\n",
       "      <td>0.101333</td>\n",
       "      <td>-0.340187</td>\n",
       "      <td>1.379958</td>\n",
       "    </tr>\n",
       "    <tr>\n",
       "      <td>2020-07-28</td>\n",
       "      <td>-1.803305</td>\n",
       "      <td>0.673550</td>\n",
       "      <td>1.129829</td>\n",
       "      <td>-0.848233</td>\n",
       "    </tr>\n",
       "    <tr>\n",
       "      <td>2020-07-29</td>\n",
       "      <td>0.702338</td>\n",
       "      <td>-0.925084</td>\n",
       "      <td>1.881097</td>\n",
       "      <td>0.373297</td>\n",
       "    </tr>\n",
       "    <tr>\n",
       "      <td>2020-07-30</td>\n",
       "      <td>-0.248262</td>\n",
       "      <td>0.841478</td>\n",
       "      <td>0.949801</td>\n",
       "      <td>-0.980797</td>\n",
       "    </tr>\n",
       "  </tbody>\n",
       "</table>\n",
       "</div>"
      ],
      "text/plain": [
       "                   A         B         C         D\n",
       "2020-07-25  1.031623 -1.142337  1.435305 -0.533262\n",
       "2020-07-26 -0.351843  0.454871  0.108946  1.087645\n",
       "2020-07-27 -1.958982  0.101333 -0.340187  1.379958\n",
       "2020-07-28 -1.803305  0.673550  1.129829 -0.848233\n",
       "2020-07-29  0.702338 -0.925084  1.881097  0.373297\n",
       "2020-07-30 -0.248262  0.841478  0.949801 -0.980797"
      ]
     },
     "execution_count": 29,
     "metadata": {},
     "output_type": "execute_result"
    }
   ],
   "source": [
    "df[0:6]"
   ]
  },
  {
   "cell_type": "code",
   "execution_count": 26,
   "metadata": {},
   "outputs": [
    {
     "data": {
      "text/plain": [
       "A    1.031623\n",
       "B   -1.142337\n",
       "C    1.435305\n",
       "D   -0.533262\n",
       "Name: 2020-07-25 00:00:00, dtype: float64"
      ]
     },
     "execution_count": 26,
     "metadata": {},
     "output_type": "execute_result"
    }
   ],
   "source": [
    "df.loc[d[0]]"
   ]
  },
  {
   "cell_type": "code",
   "execution_count": 27,
   "metadata": {},
   "outputs": [
    {
     "data": {
      "text/html": [
       "<div>\n",
       "<style scoped>\n",
       "    .dataframe tbody tr th:only-of-type {\n",
       "        vertical-align: middle;\n",
       "    }\n",
       "\n",
       "    .dataframe tbody tr th {\n",
       "        vertical-align: top;\n",
       "    }\n",
       "\n",
       "    .dataframe thead th {\n",
       "        text-align: right;\n",
       "    }\n",
       "</style>\n",
       "<table border=\"1\" class=\"dataframe\">\n",
       "  <thead>\n",
       "    <tr style=\"text-align: right;\">\n",
       "      <th></th>\n",
       "      <th>A</th>\n",
       "      <th>C</th>\n",
       "    </tr>\n",
       "  </thead>\n",
       "  <tbody>\n",
       "    <tr>\n",
       "      <td>2020-07-25</td>\n",
       "      <td>1.031623</td>\n",
       "      <td>1.435305</td>\n",
       "    </tr>\n",
       "    <tr>\n",
       "      <td>2020-07-26</td>\n",
       "      <td>-0.351843</td>\n",
       "      <td>0.108946</td>\n",
       "    </tr>\n",
       "    <tr>\n",
       "      <td>2020-07-27</td>\n",
       "      <td>-1.958982</td>\n",
       "      <td>-0.340187</td>\n",
       "    </tr>\n",
       "    <tr>\n",
       "      <td>2020-07-28</td>\n",
       "      <td>-1.803305</td>\n",
       "      <td>1.129829</td>\n",
       "    </tr>\n",
       "    <tr>\n",
       "      <td>2020-07-29</td>\n",
       "      <td>0.702338</td>\n",
       "      <td>1.881097</td>\n",
       "    </tr>\n",
       "    <tr>\n",
       "      <td>2020-07-30</td>\n",
       "      <td>-0.248262</td>\n",
       "      <td>0.949801</td>\n",
       "    </tr>\n",
       "    <tr>\n",
       "      <td>2020-07-31</td>\n",
       "      <td>-0.396432</td>\n",
       "      <td>-0.936433</td>\n",
       "    </tr>\n",
       "    <tr>\n",
       "      <td>2020-08-01</td>\n",
       "      <td>-0.694504</td>\n",
       "      <td>-0.154553</td>\n",
       "    </tr>\n",
       "    <tr>\n",
       "      <td>2020-08-02</td>\n",
       "      <td>-0.254769</td>\n",
       "      <td>-1.774127</td>\n",
       "    </tr>\n",
       "    <tr>\n",
       "      <td>2020-08-03</td>\n",
       "      <td>-0.145861</td>\n",
       "      <td>-0.480968</td>\n",
       "    </tr>\n",
       "  </tbody>\n",
       "</table>\n",
       "</div>"
      ],
      "text/plain": [
       "                   A         C\n",
       "2020-07-25  1.031623  1.435305\n",
       "2020-07-26 -0.351843  0.108946\n",
       "2020-07-27 -1.958982 -0.340187\n",
       "2020-07-28 -1.803305  1.129829\n",
       "2020-07-29  0.702338  1.881097\n",
       "2020-07-30 -0.248262  0.949801\n",
       "2020-07-31 -0.396432 -0.936433\n",
       "2020-08-01 -0.694504 -0.154553\n",
       "2020-08-02 -0.254769 -1.774127\n",
       "2020-08-03 -0.145861 -0.480968"
      ]
     },
     "execution_count": 27,
     "metadata": {},
     "output_type": "execute_result"
    }
   ],
   "source": [
    "df.loc[:,['A', 'C']]"
   ]
  },
  {
   "cell_type": "code",
   "execution_count": null,
   "metadata": {},
   "outputs": [],
   "source": []
  },
  {
   "cell_type": "code",
   "execution_count": null,
   "metadata": {},
   "outputs": [],
   "source": []
  },
  {
   "cell_type": "code",
   "execution_count": null,
   "metadata": {},
   "outputs": [],
   "source": []
  },
  {
   "cell_type": "code",
   "execution_count": null,
   "metadata": {},
   "outputs": [],
   "source": []
  },
  {
   "cell_type": "code",
   "execution_count": null,
   "metadata": {},
   "outputs": [],
   "source": []
  },
  {
   "cell_type": "code",
   "execution_count": null,
   "metadata": {},
   "outputs": [],
   "source": []
  },
  {
   "cell_type": "code",
   "execution_count": null,
   "metadata": {},
   "outputs": [],
   "source": []
  }
 ],
 "metadata": {
  "kernelspec": {
   "display_name": "Python 3",
   "language": "python",
   "name": "python3"
  },
  "language_info": {
   "codemirror_mode": {
    "name": "ipython",
    "version": 3
   },
   "file_extension": ".py",
   "mimetype": "text/x-python",
   "name": "python",
   "nbconvert_exporter": "python",
   "pygments_lexer": "ipython3",
   "version": "3.6.5"
  }
 },
 "nbformat": 4,
 "nbformat_minor": 2
}
